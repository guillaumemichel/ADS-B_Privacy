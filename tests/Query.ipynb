{
 "cells": [
  {
   "cell_type": "code",
   "execution_count": 1,
   "metadata": {},
   "outputs": [
    {
     "name": "stderr",
     "output_type": "stream",
     "text": [
      "/home/guissou/.miniconda3/lib/python3.7/site-packages/pkg_resources/__init__.py:1152: DeprecationWarning: Use of .. or absolute path in a resource path is not allowed and will raise exceptions in a future release.\n",
      "  self, resource_name\n",
      "/home/guissou/.miniconda3/lib/python3.7/site-packages/ipyleaflet/leaflet.py:338: DeprecationWarning: metadata {'dtype': None} was set from the constructor. With traitlets 4.1, metadata should be set using the .tag() method, e.g., Int().tag(key1='value1', key2='value2')\n",
      "  data = Dataset().tag(dtype=None, sync=True, to_json=ds_x_to_json)\n"
     ]
    }
   ],
   "source": [
    "from traffic.data import opensky"
   ]
  },
  {
   "cell_type": "markdown",
   "metadata": {},
   "source": [
    "# Collecting the data\n",
    "Collecting DCMXXXX flight information for flights between February 1. and 26."
   ]
  },
  {
   "cell_type": "code",
   "execution_count": 2,
   "metadata": {},
   "outputs": [
    {
     "data": {
      "application/vnd.jupyter.widget-view+json": {
       "model_id": "7e6df16649324bcba91a17f3774060db",
       "version_major": 2,
       "version_minor": 0
      },
      "text/plain": [
       "HBox(children=(FloatProgress(value=0.0, max=624.0), HTML(value='')))"
      ]
     },
     "metadata": {},
     "output_type": "display_data"
    },
    {
     "name": "stdout",
     "output_type": "stream",
     "text": [
      "\n"
     ]
    }
   ],
   "source": [
    "t_dcm = opensky.history(\n",
    "    \"2020-02-01 00:00\",\n",
    "    \"2020-02-26 23:59\",\n",
    "    callsign=\"DCM%\",\n",
    ")"
   ]
  },
  {
   "cell_type": "code",
   "execution_count": 3,
   "metadata": {},
   "outputs": [
    {
     "data": {
      "text/html": [
       "<b>Traffic with 250 identifiers</b><style  type=\"text/css\" >\n",
       "    #T_1547bc9c_5969_11ea_b4fd_39748e4c9292row0_col0 {\n",
       "            width:  10em;\n",
       "             height:  80%;\n",
       "            background:  linear-gradient(90deg,#5fba7d 100.0%, transparent 100.0%);\n",
       "        }    #T_1547bc9c_5969_11ea_b4fd_39748e4c9292row1_col0 {\n",
       "            width:  10em;\n",
       "             height:  80%;\n",
       "            background:  linear-gradient(90deg,#5fba7d 96.2%, transparent 96.2%);\n",
       "        }    #T_1547bc9c_5969_11ea_b4fd_39748e4c9292row2_col0 {\n",
       "            width:  10em;\n",
       "             height:  80%;\n",
       "            background:  linear-gradient(90deg,#5fba7d 83.4%, transparent 83.4%);\n",
       "        }    #T_1547bc9c_5969_11ea_b4fd_39748e4c9292row3_col0 {\n",
       "            width:  10em;\n",
       "             height:  80%;\n",
       "            background:  linear-gradient(90deg,#5fba7d 82.7%, transparent 82.7%);\n",
       "        }    #T_1547bc9c_5969_11ea_b4fd_39748e4c9292row4_col0 {\n",
       "            width:  10em;\n",
       "             height:  80%;\n",
       "            background:  linear-gradient(90deg,#5fba7d 81.8%, transparent 81.8%);\n",
       "        }    #T_1547bc9c_5969_11ea_b4fd_39748e4c9292row5_col0 {\n",
       "            width:  10em;\n",
       "             height:  80%;\n",
       "            background:  linear-gradient(90deg,#5fba7d 79.9%, transparent 79.9%);\n",
       "        }    #T_1547bc9c_5969_11ea_b4fd_39748e4c9292row6_col0 {\n",
       "            width:  10em;\n",
       "             height:  80%;\n",
       "            background:  linear-gradient(90deg,#5fba7d 75.3%, transparent 75.3%);\n",
       "        }    #T_1547bc9c_5969_11ea_b4fd_39748e4c9292row7_col0 {\n",
       "            width:  10em;\n",
       "             height:  80%;\n",
       "            background:  linear-gradient(90deg,#5fba7d 66.1%, transparent 66.1%);\n",
       "        }    #T_1547bc9c_5969_11ea_b4fd_39748e4c9292row8_col0 {\n",
       "            width:  10em;\n",
       "             height:  80%;\n",
       "            background:  linear-gradient(90deg,#5fba7d 64.9%, transparent 64.9%);\n",
       "        }    #T_1547bc9c_5969_11ea_b4fd_39748e4c9292row9_col0 {\n",
       "            width:  10em;\n",
       "             height:  80%;\n",
       "            background:  linear-gradient(90deg,#5fba7d 61.7%, transparent 61.7%);\n",
       "        }</style><table id=\"T_1547bc9c_5969_11ea_b4fd_39748e4c9292\" ><thead>    <tr>        <th class=\"blank\" ></th>        <th class=\"blank level0\" ></th>        <th class=\"col_heading level0 col0\" >count</th>    </tr>    <tr>        <th class=\"index_name level0\" >icao24</th>        <th class=\"index_name level1\" >callsign</th>        <th class=\"blank\" ></th>    </tr></thead><tbody>\n",
       "                <tr>\n",
       "                        <th id=\"T_1547bc9c_5969_11ea_b4fd_39748e4c9292level0_row0\" class=\"row_heading level0 row0\" >a4132d</th>\n",
       "                        <th id=\"T_1547bc9c_5969_11ea_b4fd_39748e4c9292level1_row0\" class=\"row_heading level1 row0\" >DCM4126</th>\n",
       "                        <td id=\"T_1547bc9c_5969_11ea_b4fd_39748e4c9292row0_col0\" class=\"data row0 col0\" >136624</td>\n",
       "            </tr>\n",
       "            <tr>\n",
       "                        <th id=\"T_1547bc9c_5969_11ea_b4fd_39748e4c9292level0_row1\" class=\"row_heading level0 row1\" >acb0c9</th>\n",
       "                        <th id=\"T_1547bc9c_5969_11ea_b4fd_39748e4c9292level1_row1\" class=\"row_heading level1 row1\" >DCM4082</th>\n",
       "                        <td id=\"T_1547bc9c_5969_11ea_b4fd_39748e4c9292row1_col0\" class=\"data row1 col0\" >131403</td>\n",
       "            </tr>\n",
       "            <tr>\n",
       "                        <th id=\"T_1547bc9c_5969_11ea_b4fd_39748e4c9292level0_row2\" class=\"row_heading level0 row2\" >a837f8</th>\n",
       "                        <th id=\"T_1547bc9c_5969_11ea_b4fd_39748e4c9292level1_row2\" class=\"row_heading level1 row2\" >DCM100D</th>\n",
       "                        <td id=\"T_1547bc9c_5969_11ea_b4fd_39748e4c9292row2_col0\" class=\"data row2 col0\" >113955</td>\n",
       "            </tr>\n",
       "            <tr>\n",
       "                        <th id=\"T_1547bc9c_5969_11ea_b4fd_39748e4c9292level0_row3\" class=\"row_heading level0 row3\" >a7cb7f</th>\n",
       "                        <th id=\"T_1547bc9c_5969_11ea_b4fd_39748e4c9292level1_row3\" class=\"row_heading level1 row3\" >DCM6072</th>\n",
       "                        <td id=\"T_1547bc9c_5969_11ea_b4fd_39748e4c9292row3_col0\" class=\"data row3 col0\" >112923</td>\n",
       "            </tr>\n",
       "            <tr>\n",
       "                        <th id=\"T_1547bc9c_5969_11ea_b4fd_39748e4c9292level0_row4\" class=\"row_heading level0 row4\" >a1530a</th>\n",
       "                        <th id=\"T_1547bc9c_5969_11ea_b4fd_39748e4c9292level1_row4\" class=\"row_heading level1 row4\" >DCM4121</th>\n",
       "                        <td id=\"T_1547bc9c_5969_11ea_b4fd_39748e4c9292row4_col0\" class=\"data row4 col0\" >111821</td>\n",
       "            </tr>\n",
       "            <tr>\n",
       "                        <th id=\"T_1547bc9c_5969_11ea_b4fd_39748e4c9292level0_row5\" class=\"row_heading level0 row5\" >acad12</th>\n",
       "                        <th id=\"T_1547bc9c_5969_11ea_b4fd_39748e4c9292level1_row5\" class=\"row_heading level1 row5\" >DCM4081</th>\n",
       "                        <td id=\"T_1547bc9c_5969_11ea_b4fd_39748e4c9292row5_col0\" class=\"data row5 col0\" >109104</td>\n",
       "            </tr>\n",
       "            <tr>\n",
       "                        <th id=\"T_1547bc9c_5969_11ea_b4fd_39748e4c9292level0_row6\" class=\"row_heading level0 row6\" >a9037b</th>\n",
       "                        <th id=\"T_1547bc9c_5969_11ea_b4fd_39748e4c9292level1_row6\" class=\"row_heading level1 row6\" >DCM2680</th>\n",
       "                        <td id=\"T_1547bc9c_5969_11ea_b4fd_39748e4c9292row6_col0\" class=\"data row6 col0\" >102820</td>\n",
       "            </tr>\n",
       "            <tr>\n",
       "                        <th id=\"T_1547bc9c_5969_11ea_b4fd_39748e4c9292level0_row7\" class=\"row_heading level0 row7\" >adab84</th>\n",
       "                        <th id=\"T_1547bc9c_5969_11ea_b4fd_39748e4c9292level1_row7\" class=\"row_heading level1 row7\" >DCM2216</th>\n",
       "                        <td id=\"T_1547bc9c_5969_11ea_b4fd_39748e4c9292row7_col0\" class=\"data row7 col0\" >90261</td>\n",
       "            </tr>\n",
       "            <tr>\n",
       "                        <th id=\"T_1547bc9c_5969_11ea_b4fd_39748e4c9292level0_row8\" class=\"row_heading level0 row8\" >a5279e</th>\n",
       "                        <th id=\"T_1547bc9c_5969_11ea_b4fd_39748e4c9292level1_row8\" class=\"row_heading level1 row8\" >DCM4190</th>\n",
       "                        <td id=\"T_1547bc9c_5969_11ea_b4fd_39748e4c9292row8_col0\" class=\"data row8 col0\" >88658</td>\n",
       "            </tr>\n",
       "            <tr>\n",
       "                        <th id=\"T_1547bc9c_5969_11ea_b4fd_39748e4c9292level0_row9\" class=\"row_heading level0 row9\" >a3a21d</th>\n",
       "                        <th id=\"T_1547bc9c_5969_11ea_b4fd_39748e4c9292level1_row9\" class=\"row_heading level1 row9\" >DCM2930</th>\n",
       "                        <td id=\"T_1547bc9c_5969_11ea_b4fd_39748e4c9292row9_col0\" class=\"data row9 col0\" >84266</td>\n",
       "            </tr>\n",
       "    </tbody></table>"
      ],
      "text/plain": [
       "                  count\n",
       "icao24 callsign        \n",
       "a4132d DCM4126   136624\n",
       "acb0c9 DCM4082   131403\n",
       "a837f8 DCM100D   113955\n",
       "a7cb7f DCM6072   112923\n",
       "a1530a DCM4121   111821\n",
       "acad12 DCM4081   109104\n",
       "a9037b DCM2680   102820\n",
       "adab84 DCM2216    90261\n",
       "a5279e DCM4190    88658\n",
       "a3a21d DCM2930    84266"
      ]
     },
     "execution_count": 3,
     "metadata": {},
     "output_type": "execute_result"
    }
   ],
   "source": [
    "t_dcm"
   ]
  },
  {
   "cell_type": "code",
   "execution_count": 4,
   "metadata": {},
   "outputs": [
    {
     "data": {
      "image/svg+xml": [
       "<svg xmlns=\"http://www.w3.org/2000/svg\" xmlns:xlink=\"http://www.w3.org/1999/xlink\" width=\"300\" height=\"300\" viewBox=\"-137637.13583249156 -418197.54589541187 259951.1410299335 838331.6932713472\" preserveAspectRatio=\"xMinYMin meet\"><g transform=\"matrix(1,0,0,-1,0,1936.6014805234736)\"><polyline fill=\"none\" stroke=\"#66cc99\" stroke-width=\"5588.877955142315\" points=\"-106403.88263015402,-386778.9988700909 -106336.68837917683,-386906.88960370386 -106512.193276442,-386966.8261939151 -106587.81385947872,-387022.27593897557 -106577.97202663563,-387062.60008480644 -106348.96150046318,-387146.6802677362 -106112.60881058004,-387148.223922399 -102733.6570718648,-386308.50431612035 -99467.756949722,-385309.65934591996 -94578.31231760778,-384114.2904099324 -91932.73409173338,-383383.77408174536 -91116.61494203794,-383123.066830473 -90744.82770165068,-382958.7839154073 -90222.62099294586,-382654.5413125468 -89502.41185810021,-382035.3056755348 -89131.97915224054,-381593.098668133 -88837.39060501757,-381142.35557705286 -88561.47053632673,-380589.7132266632 -88381.92828301269,-380068.2541016453 -88258.60763995544,-379500.03357104404 -88209.37564587352,-379027.32544750714 -88213.46289152178,-378449.8298008574 -88267.88025683872,-377884.5303516312 -88799.16461411458,-374691.195197004 -89888.50027880774,-367145.215707139 -91951.68716687501,-353425.5196531258 -92101.94084466175,-352330.073991959 -92137.74222935243,-351345.36538451596 -91793.62990258305,-347052.13176058437 -86889.1921879835,-279643.5833467188 -86706.19662652588,-277911.69335729815 -86419.31478159227,-276450.8236311029 -86191.17890927073,-275572.8939517366 -84509.85453600361,-269888.15535922593 -77443.32681776481,-244779.88091749293 -54712.500344393266,-164611.69625626135 51023.175463266925,209174.55554527833 51479.81698083951,210923.30547191165 51683.10102770121,212048.04549458498 52561.54749842671,218655.81686248278 61842.83233852899,284542.981130325 63747.38232799794,298143.4249899527 63860.81616543071,299223.85211669985 63885.48097750139,300152.63965521764 63855.048976549384,301284.7685477376 63519.1989968047,309562.96190376877 63331.8328271357,315305.52038677654 63158.146870732504,318992.93792122777 62827.494003459746,323850.7087249292 61941.60406542945,335252.79872206494 60757.87739257701,351875.99037892907 60315.79982909705,363305.69839457405 60276.34085116715,365340.16258133436 60375.466306392125,366062.0935812361 60614.996366612766,366837.71614893555 61041.04319996426,367928.953986228 65579.16659381404,378819.09290504747 69069.99602577672,387537.63832765364 69382.20002653914,388106.42160806316 69577.78926889673,388338.7648859825 70035.93131071866,388692.70926318195 71092.47964715687,388989.0084625627 71592.2918230825,389022.63665904047 75481.36328805423,389084.82540292246 75990.35725186071,389037.1848800952 76500.12091942967,388905.1200889318 77778.935958693,388372.03431240557 80605.60686315587,386990.59258329065 91264.68322442907,382011.46490466455\" opacity=\"0.8\" /></g></svg>"
      ],
      "text/html": [
       "<b>Flight DCMCA</b><ul><li><b>aircraft:</b> 3cdfe4</li><li><b>from:</b> 2020-02-07 07:36:38+00:00</li><li><b>to:</b> 2020-02-07 09:07:57+00:00</li></ul><div style=\"white-space: nowrap\"><svg xmlns=\"http://www.w3.org/2000/svg\" xmlns:xlink=\"http://www.w3.org/1999/xlink\" width=\"300\" height=\"300\" viewBox=\"-137637.13583249156 -418197.54589541187 259951.1410299335 838331.6932713472\" preserveAspectRatio=\"xMinYMin meet\"><g transform=\"matrix(1,0,0,-1,0,1936.6014805234736)\"><polyline fill=\"none\" stroke=\"#66cc99\" stroke-width=\"5588.877955142315\" points=\"-106403.88263015402,-386778.9988700909 -106336.68837917683,-386906.88960370386 -106512.193276442,-386966.8261939151 -106587.81385947872,-387022.27593897557 -106577.97202663563,-387062.60008480644 -106348.96150046318,-387146.6802677362 -106112.60881058004,-387148.223922399 -102733.6570718648,-386308.50431612035 -99467.756949722,-385309.65934591996 -94578.31231760778,-384114.2904099324 -91932.73409173338,-383383.77408174536 -91116.61494203794,-383123.066830473 -90744.82770165068,-382958.7839154073 -90222.62099294586,-382654.5413125468 -89502.41185810021,-382035.3056755348 -89131.97915224054,-381593.098668133 -88837.39060501757,-381142.35557705286 -88561.47053632673,-380589.7132266632 -88381.92828301269,-380068.2541016453 -88258.60763995544,-379500.03357104404 -88209.37564587352,-379027.32544750714 -88213.46289152178,-378449.8298008574 -88267.88025683872,-377884.5303516312 -88799.16461411458,-374691.195197004 -89888.50027880774,-367145.215707139 -91951.68716687501,-353425.5196531258 -92101.94084466175,-352330.073991959 -92137.74222935243,-351345.36538451596 -91793.62990258305,-347052.13176058437 -86889.1921879835,-279643.5833467188 -86706.19662652588,-277911.69335729815 -86419.31478159227,-276450.8236311029 -86191.17890927073,-275572.8939517366 -84509.85453600361,-269888.15535922593 -77443.32681776481,-244779.88091749293 -54712.500344393266,-164611.69625626135 51023.175463266925,209174.55554527833 51479.81698083951,210923.30547191165 51683.10102770121,212048.04549458498 52561.54749842671,218655.81686248278 61842.83233852899,284542.981130325 63747.38232799794,298143.4249899527 63860.81616543071,299223.85211669985 63885.48097750139,300152.63965521764 63855.048976549384,301284.7685477376 63519.1989968047,309562.96190376877 63331.8328271357,315305.52038677654 63158.146870732504,318992.93792122777 62827.494003459746,323850.7087249292 61941.60406542945,335252.79872206494 60757.87739257701,351875.99037892907 60315.79982909705,363305.69839457405 60276.34085116715,365340.16258133436 60375.466306392125,366062.0935812361 60614.996366612766,366837.71614893555 61041.04319996426,367928.953986228 65579.16659381404,378819.09290504747 69069.99602577672,387537.63832765364 69382.20002653914,388106.42160806316 69577.78926889673,388338.7648859825 70035.93131071866,388692.70926318195 71092.47964715687,388989.0084625627 71592.2918230825,389022.63665904047 75481.36328805423,389084.82540292246 75990.35725186071,389037.1848800952 76500.12091942967,388905.1200889318 77778.935958693,388372.03431240557 80605.60686315587,386990.59258329065 91264.68322442907,382011.46490466455\" opacity=\"0.8\" /></g></svg></div>"
      ],
      "text/plain": [
       "Flight DCMCA\n",
       "aircraft: 3cdfe4\n",
       "origin: 2020-02-07 07:36:38+00:00\n",
       "destination: 2020-02-07 09:07:57+00:00"
      ]
     },
     "execution_count": 4,
     "metadata": {},
     "output_type": "execute_result"
    }
   ],
   "source": [
    "t_dcm[2]"
   ]
  },
  {
   "cell_type": "code",
   "execution_count": 7,
   "metadata": {},
   "outputs": [],
   "source": [
    "unique_callsigns = set()\n",
    "for f in t_dcm:\n",
    "    unique_callsigns.add(f.callsign)"
   ]
  },
  {
   "cell_type": "code",
   "execution_count": null,
   "metadata": {},
   "outputs": [],
   "source": [
    "len(t_dcm)"
   ]
  },
  {
   "cell_type": "code",
   "execution_count": 8,
   "metadata": {},
   "outputs": [
    {
     "data": {
      "text/plain": [
       "234"
      ]
     },
     "execution_count": 8,
     "metadata": {},
     "output_type": "execute_result"
    }
   ],
   "source": [
    "len(unique_callsigns)"
   ]
  },
  {
   "cell_type": "code",
   "execution_count": 1,
   "metadata": {},
   "outputs": [
    {
     "ename": "NameError",
     "evalue": "name 'unique_callsigns' is not defined",
     "output_type": "error",
     "traceback": [
      "\u001b[0;31m---------------------------------------------------------------------------\u001b[0m",
      "\u001b[0;31mNameError\u001b[0m                                 Traceback (most recent call last)",
      "\u001b[0;32m<ipython-input-1-6974383f60b7>\u001b[0m in \u001b[0;36m<module>\u001b[0;34m\u001b[0m\n\u001b[1;32m      1\u001b[0m \u001b[0mby_callsign\u001b[0m \u001b[0;34m=\u001b[0m \u001b[0;34m{\u001b[0m\u001b[0;34m}\u001b[0m\u001b[0;34m\u001b[0m\u001b[0;34m\u001b[0m\u001b[0m\n\u001b[0;32m----> 2\u001b[0;31m \u001b[0;32mfor\u001b[0m \u001b[0mc\u001b[0m \u001b[0;32min\u001b[0m \u001b[0munique_callsigns\u001b[0m\u001b[0;34m:\u001b[0m\u001b[0;34m\u001b[0m\u001b[0;34m\u001b[0m\u001b[0m\n\u001b[0m\u001b[1;32m      3\u001b[0m     \u001b[0mby_callsign\u001b[0m\u001b[0;34m[\u001b[0m\u001b[0mc\u001b[0m\u001b[0;34m]\u001b[0m \u001b[0;34m=\u001b[0m \u001b[0mlist\u001b[0m\u001b[0;34m(\u001b[0m\u001b[0;34m)\u001b[0m\u001b[0;34m\u001b[0m\u001b[0;34m\u001b[0m\u001b[0m\n\u001b[1;32m      4\u001b[0m     \u001b[0;32mfor\u001b[0m \u001b[0mf\u001b[0m \u001b[0;32min\u001b[0m \u001b[0mt_dcm\u001b[0m\u001b[0;34m:\u001b[0m\u001b[0;34m\u001b[0m\u001b[0;34m\u001b[0m\u001b[0m\n\u001b[1;32m      5\u001b[0m         \u001b[0;32mif\u001b[0m \u001b[0mf\u001b[0m\u001b[0;34m.\u001b[0m\u001b[0mcallsign\u001b[0m \u001b[0;34m==\u001b[0m \u001b[0mc\u001b[0m\u001b[0;34m:\u001b[0m\u001b[0;34m\u001b[0m\u001b[0;34m\u001b[0m\u001b[0m\n",
      "\u001b[0;31mNameError\u001b[0m: name 'unique_callsigns' is not defined"
     ]
    }
   ],
   "source": [
    "by_callsign = {}\n",
    "for c in unique_callsigns:\n",
    "    by_callsign[c] = list()\n",
    "    for f in t_dcm:\n",
    "        if f.callsign == c:\n",
    "            by_callsign[c].append(f)"
   ]
  },
  {
   "cell_type": "code",
   "execution_count": null,
   "metadata": {},
   "outputs": [],
   "source": [
    "for m in by_callsign:\n",
    "    print(m, len(by_callsign[m]))"
   ]
  },
  {
   "cell_type": "code",
   "execution_count": null,
   "metadata": {},
   "outputs": [],
   "source": []
  }
 ],
 "metadata": {
  "kernelspec": {
   "display_name": "Python 3",
   "language": "python",
   "name": "python3"
  },
  "language_info": {
   "codemirror_mode": {
    "name": "ipython",
    "version": 3
   },
   "file_extension": ".py",
   "mimetype": "text/x-python",
   "name": "python",
   "nbconvert_exporter": "python",
   "pygments_lexer": "ipython3",
   "version": "3.7.4"
  }
 },
 "nbformat": 4,
 "nbformat_minor": 4
}
